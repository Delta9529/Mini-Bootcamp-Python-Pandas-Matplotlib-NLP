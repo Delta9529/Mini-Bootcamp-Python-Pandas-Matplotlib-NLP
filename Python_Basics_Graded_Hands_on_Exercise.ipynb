{
  "nbformat": 4,
  "nbformat_minor": 0,
  "metadata": {
    "kernelspec": {
      "display_name": "Python 3",
      "language": "python",
      "name": "python3"
    },
    "language_info": {
      "codemirror_mode": {
        "name": "ipython",
        "version": 3
      },
      "file_extension": ".py",
      "mimetype": "text/x-python",
      "name": "python",
      "nbconvert_exporter": "python",
      "pygments_lexer": "ipython3",
      "version": "3.7.6"
    },
    "colab": {
      "name": "Python Basics Graded Hands-on Exercise.ipynb",
      "provenance": [],
      "collapsed_sections": [],
      "include_colab_link": true
    }
  },
  "cells": [
    {
      "cell_type": "markdown",
      "metadata": {
        "id": "view-in-github",
        "colab_type": "text"
      },
      "source": [
        "<a href=\"https://colab.research.google.com/github/Delta9529/Mini-Bootcamp-Python-Pandas-Matplotlib-NLP/blob/main/Python_Basics_Graded_Hands_on_Exercise.ipynb\" target=\"_parent\"><img src=\"https://colab.research.google.com/assets/colab-badge.svg\" alt=\"Open In Colab\"/></a>"
      ]
    },
    {
      "cell_type": "markdown",
      "metadata": {
        "id": "tf0Yxt_Zggqz"
      },
      "source": [
        "Overview: \n",
        "Use simple python functions to solve the given task!!"
      ]
    },
    {
      "cell_type": "markdown",
      "metadata": {
        "id": "y_B39vCQGRTH"
      },
      "source": [
        "###Task 1\n",
        "\n",
        "We have declared a tuple containing five same elements as following:\n",
        "T = (‘python’, ‘python’, ‘python’, ‘python’, ‘python’).\n",
        "Re-write the same code in an optimal/simple way that fetches the same result."
      ]
    },
    {
      "cell_type": "code",
      "metadata": {
        "id": "sLAOHlgIJmdT",
        "colab": {
          "base_uri": "https://localhost:8080/",
          "height": 35
        },
        "outputId": "eeac8890-f08b-48fb-a4c1-2ed1a932b7d8"
      },
      "source": [
        "T = ('python ')*5\n",
        "T"
      ],
      "execution_count": null,
      "outputs": [
        {
          "output_type": "execute_result",
          "data": {
            "application/vnd.google.colaboratory.intrinsic+json": {
              "type": "string"
            },
            "text/plain": [
              "'python python python python python '"
            ]
          },
          "metadata": {},
          "execution_count": 27
        }
      ]
    },
    {
      "cell_type": "markdown",
      "metadata": {
        "id": "H_8tFcijGRTQ"
      },
      "source": [
        "###Task 2\n",
        "\n",
        "Write code to print characters from a string that are present at an even index number.\n",
        "For example, if your input string is \"python\", the output characters will be (p,t,o)."
      ]
    },
    {
      "cell_type": "code",
      "metadata": {
        "id": "pfu1a4nYJM-q",
        "colab": {
          "base_uri": "https://localhost:8080/"
        },
        "outputId": "fe597a50-1e58-442b-f729-f7b72f37d019"
      },
      "source": [
        "print(T)\n",
        "string_length = len(T)\n",
        "for s in range(string_length):\n",
        "  if s%2==0:\n",
        "    print(T[s])"
      ],
      "execution_count": null,
      "outputs": [
        {
          "output_type": "stream",
          "name": "stdout",
          "text": [
            "python python python python python \n",
            "p\n",
            "t\n",
            "o\n",
            " \n",
            "y\n",
            "h\n",
            "n\n",
            "p\n",
            "t\n",
            "o\n",
            " \n",
            "y\n",
            "h\n",
            "n\n",
            "p\n",
            "t\n",
            "o\n",
            " \n"
          ]
        }
      ]
    },
    {
      "cell_type": "markdown",
      "metadata": {
        "id": "FbLVbwcsGRTT"
      },
      "source": [
        "### Task 3\n",
        "\n",
        "Write a function that calculates the average of the elements of the list: \n",
        "\n",
        "elements = [5, 7, 4, 9, 2]\n"
      ]
    },
    {
      "cell_type": "code",
      "metadata": {
        "colab": {
          "base_uri": "https://localhost:8080/"
        },
        "id": "fPv1HxJxND9z",
        "outputId": "bec27de1-f993-42af-dcda-0704364edfd9"
      },
      "source": [
        "def avg(a):\n",
        "  return sum(a)/len(a)\n",
        "\n",
        "a = [5,7,4,9,2]\n",
        "average = avg(a)\n",
        "average"
      ],
      "execution_count": null,
      "outputs": [
        {
          "output_type": "execute_result",
          "data": {
            "text/plain": [
              "5.4"
            ]
          },
          "metadata": {},
          "execution_count": 24
        }
      ]
    },
    {
      "cell_type": "markdown",
      "metadata": {
        "id": "2pzfM3wS4oqt"
      },
      "source": [
        "### Task 4\n",
        "Write code to find if the given year is a leap year or not."
      ]
    },
    {
      "cell_type": "code",
      "metadata": {
        "id": "ci6dzh8dSHPl",
        "colab": {
          "base_uri": "https://localhost:8080/"
        },
        "outputId": "d425890c-749e-479d-fb60-361e9cfd091f"
      },
      "source": [
        "def leapyear(year):\n",
        "  if((year % 4 == 0) or (year % 4 == 0 and year % 100 != 0)):\n",
        "    print('It is a Leap Year');\n",
        "  else:\n",
        "    print('It is not a leap year')\n",
        "\n",
        "year = int(input('Enter year: '))\n",
        "leapyear(year)"
      ],
      "execution_count": null,
      "outputs": [
        {
          "output_type": "stream",
          "name": "stdout",
          "text": [
            "Enter year: 2000\n",
            "It is a Leap Year\n"
          ]
        }
      ]
    },
    {
      "cell_type": "markdown",
      "metadata": {
        "id": "zsVw9yrD5drx"
      },
      "source": [
        "### Task 5\n",
        "Given a list of numbers (integers), find the sum of second maximum and second minimum in the following list.\n",
        "\n",
        "l = [21, 6, 12, 57, 35, 61]"
      ]
    },
    {
      "cell_type": "code",
      "metadata": {
        "colab": {
          "base_uri": "https://localhost:8080/"
        },
        "id": "L2pnsEz-TkuR",
        "outputId": "c8a582a4-439e-4457-a6da-67de4e834d88"
      },
      "source": [
        "I = [21,6,12,57,35,61]\n",
        "I.sort()\n",
        "print(I)\n",
        "Sum = I[1]+I[-2]\n",
        "Sum"
      ],
      "execution_count": null,
      "outputs": [
        {
          "output_type": "stream",
          "name": "stdout",
          "text": [
            "[6, 12, 21, 35, 57, 61]\n"
          ]
        },
        {
          "output_type": "execute_result",
          "data": {
            "text/plain": [
              "69"
            ]
          },
          "metadata": {},
          "execution_count": 26
        }
      ]
    }
  ]
}