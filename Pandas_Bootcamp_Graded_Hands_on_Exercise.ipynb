{
  "nbformat": 4,
  "nbformat_minor": 0,
  "metadata": {
    "colab": {
      "name": "Pandas_Bootcamp_Graded_Hands_on_Exercise.ipynb",
      "provenance": [],
      "collapsed_sections": [],
      "include_colab_link": true
    },
    "kernelspec": {
      "name": "python3",
      "display_name": "Python 3"
    },
    "language_info": {
      "name": "python"
    }
  },
  "cells": [
    {
      "cell_type": "markdown",
      "metadata": {
        "id": "view-in-github",
        "colab_type": "text"
      },
      "source": [
        "<a href=\"https://colab.research.google.com/github/Delta9529/Mini-Bootcamp-Python-Pandas-Matplotlib-NLP/blob/main/Pandas_Bootcamp_Graded_Hands_on_Exercise.ipynb\" target=\"_parent\"><img src=\"https://colab.research.google.com/assets/colab-badge.svg\" alt=\"Open In Colab\"/></a>"
      ]
    },
    {
      "cell_type": "markdown",
      "metadata": {
        "id": "3jei9heEkXvG"
      },
      "source": [
        "Overview\n",
        "Dear Learner,\n",
        "\n",
        "Congratulations, you have studied Pandas all the way through the end of this bootcamp!!! This is the final graded hands-on exercise where you will be accomplishing the below mentioned task.\n",
        "\n",
        "For the tasks, we'll be using the COVID-19 Data Repository by the Center for Systems Science and Engineering (CSSE) at Johns Hopkins University. You can find the orginal dataset here: https://github.com/CSSEGISandData/COVID-19\n",
        "\n",
        "Dataset Link: https://raw.githubusercontent.com/dphi-official/Datasets/master/covid_19_data.csv\n",
        "\n",
        "Resources: You may consider referring to this resource while solving this project: https://www.learndatasci.com/tutorials/python-pandas-tutorial-complete-introduction-for-beginners/"
      ]
    },
    {
      "cell_type": "markdown",
      "metadata": {
        "id": "GejbyYGQUrpN"
      },
      "source": [
        "###**Task 1**\n",
        "\n",
        "* Read the dataset and name is as `df`\n",
        "* Print first 10 observations of the dataset\n",
        "* Check for the data types of the all the variables in the dataset\n",
        "* Convert columns ['ObservationDate'] and ['Last Update'] to from object to datatime data type.\n"
      ]
    },
    {
      "cell_type": "code",
      "metadata": {
        "id": "c3WY7g4CQ1WI"
      },
      "source": [
        "import pandas as pd"
      ],
      "execution_count": null,
      "outputs": []
    },
    {
      "cell_type": "code",
      "metadata": {
        "id": "HDFpakgYRLi3"
      },
      "source": [
        "df = pd.read_csv('https://raw.githubusercontent.com/dphi-official/Datasets/master/covid_19_data.csv')"
      ],
      "execution_count": null,
      "outputs": []
    },
    {
      "cell_type": "code",
      "metadata": {
        "id": "3jem_w_1RcaX",
        "colab": {
          "base_uri": "https://localhost:8080/",
          "height": 357
        },
        "outputId": "c603f854-95c8-4f57-e47d-755cd7942ad9"
      },
      "source": [
        "df.head(10)"
      ],
      "execution_count": null,
      "outputs": [
        {
          "output_type": "execute_result",
          "data": {
            "text/html": [
              "<div>\n",
              "<style scoped>\n",
              "    .dataframe tbody tr th:only-of-type {\n",
              "        vertical-align: middle;\n",
              "    }\n",
              "\n",
              "    .dataframe tbody tr th {\n",
              "        vertical-align: top;\n",
              "    }\n",
              "\n",
              "    .dataframe thead th {\n",
              "        text-align: right;\n",
              "    }\n",
              "</style>\n",
              "<table border=\"1\" class=\"dataframe\">\n",
              "  <thead>\n",
              "    <tr style=\"text-align: right;\">\n",
              "      <th></th>\n",
              "      <th>SNo</th>\n",
              "      <th>ObservationDate</th>\n",
              "      <th>Province/State</th>\n",
              "      <th>Country/Region</th>\n",
              "      <th>Last Update</th>\n",
              "      <th>Confirmed</th>\n",
              "      <th>Deaths</th>\n",
              "      <th>Recovered</th>\n",
              "    </tr>\n",
              "  </thead>\n",
              "  <tbody>\n",
              "    <tr>\n",
              "      <th>0</th>\n",
              "      <td>1</td>\n",
              "      <td>01/22/2020</td>\n",
              "      <td>Anhui</td>\n",
              "      <td>Mainland China</td>\n",
              "      <td>1/22/2020 17:00</td>\n",
              "      <td>1.0</td>\n",
              "      <td>0.0</td>\n",
              "      <td>0.0</td>\n",
              "    </tr>\n",
              "    <tr>\n",
              "      <th>1</th>\n",
              "      <td>2</td>\n",
              "      <td>01/22/2020</td>\n",
              "      <td>Beijing</td>\n",
              "      <td>Mainland China</td>\n",
              "      <td>1/22/2020 17:00</td>\n",
              "      <td>14.0</td>\n",
              "      <td>0.0</td>\n",
              "      <td>0.0</td>\n",
              "    </tr>\n",
              "    <tr>\n",
              "      <th>2</th>\n",
              "      <td>3</td>\n",
              "      <td>01/22/2020</td>\n",
              "      <td>Chongqing</td>\n",
              "      <td>Mainland China</td>\n",
              "      <td>1/22/2020 17:00</td>\n",
              "      <td>6.0</td>\n",
              "      <td>0.0</td>\n",
              "      <td>0.0</td>\n",
              "    </tr>\n",
              "    <tr>\n",
              "      <th>3</th>\n",
              "      <td>4</td>\n",
              "      <td>01/22/2020</td>\n",
              "      <td>Fujian</td>\n",
              "      <td>Mainland China</td>\n",
              "      <td>1/22/2020 17:00</td>\n",
              "      <td>1.0</td>\n",
              "      <td>0.0</td>\n",
              "      <td>0.0</td>\n",
              "    </tr>\n",
              "    <tr>\n",
              "      <th>4</th>\n",
              "      <td>5</td>\n",
              "      <td>01/22/2020</td>\n",
              "      <td>Gansu</td>\n",
              "      <td>Mainland China</td>\n",
              "      <td>1/22/2020 17:00</td>\n",
              "      <td>0.0</td>\n",
              "      <td>0.0</td>\n",
              "      <td>0.0</td>\n",
              "    </tr>\n",
              "    <tr>\n",
              "      <th>5</th>\n",
              "      <td>6</td>\n",
              "      <td>01/22/2020</td>\n",
              "      <td>Guangdong</td>\n",
              "      <td>Mainland China</td>\n",
              "      <td>1/22/2020 17:00</td>\n",
              "      <td>26.0</td>\n",
              "      <td>0.0</td>\n",
              "      <td>0.0</td>\n",
              "    </tr>\n",
              "    <tr>\n",
              "      <th>6</th>\n",
              "      <td>7</td>\n",
              "      <td>01/22/2020</td>\n",
              "      <td>Guangxi</td>\n",
              "      <td>Mainland China</td>\n",
              "      <td>1/22/2020 17:00</td>\n",
              "      <td>2.0</td>\n",
              "      <td>0.0</td>\n",
              "      <td>0.0</td>\n",
              "    </tr>\n",
              "    <tr>\n",
              "      <th>7</th>\n",
              "      <td>8</td>\n",
              "      <td>01/22/2020</td>\n",
              "      <td>Guizhou</td>\n",
              "      <td>Mainland China</td>\n",
              "      <td>1/22/2020 17:00</td>\n",
              "      <td>1.0</td>\n",
              "      <td>0.0</td>\n",
              "      <td>0.0</td>\n",
              "    </tr>\n",
              "    <tr>\n",
              "      <th>8</th>\n",
              "      <td>9</td>\n",
              "      <td>01/22/2020</td>\n",
              "      <td>Hainan</td>\n",
              "      <td>Mainland China</td>\n",
              "      <td>1/22/2020 17:00</td>\n",
              "      <td>4.0</td>\n",
              "      <td>0.0</td>\n",
              "      <td>0.0</td>\n",
              "    </tr>\n",
              "    <tr>\n",
              "      <th>9</th>\n",
              "      <td>10</td>\n",
              "      <td>01/22/2020</td>\n",
              "      <td>Hebei</td>\n",
              "      <td>Mainland China</td>\n",
              "      <td>1/22/2020 17:00</td>\n",
              "      <td>1.0</td>\n",
              "      <td>0.0</td>\n",
              "      <td>0.0</td>\n",
              "    </tr>\n",
              "  </tbody>\n",
              "</table>\n",
              "</div>"
            ],
            "text/plain": [
              "   SNo ObservationDate Province/State  ... Confirmed Deaths  Recovered\n",
              "0    1      01/22/2020          Anhui  ...       1.0    0.0        0.0\n",
              "1    2      01/22/2020        Beijing  ...      14.0    0.0        0.0\n",
              "2    3      01/22/2020      Chongqing  ...       6.0    0.0        0.0\n",
              "3    4      01/22/2020         Fujian  ...       1.0    0.0        0.0\n",
              "4    5      01/22/2020          Gansu  ...       0.0    0.0        0.0\n",
              "5    6      01/22/2020      Guangdong  ...      26.0    0.0        0.0\n",
              "6    7      01/22/2020        Guangxi  ...       2.0    0.0        0.0\n",
              "7    8      01/22/2020        Guizhou  ...       1.0    0.0        0.0\n",
              "8    9      01/22/2020         Hainan  ...       4.0    0.0        0.0\n",
              "9   10      01/22/2020          Hebei  ...       1.0    0.0        0.0\n",
              "\n",
              "[10 rows x 8 columns]"
            ]
          },
          "metadata": {},
          "execution_count": 40
        }
      ]
    },
    {
      "cell_type": "code",
      "metadata": {
        "id": "zTBXwmJcpx2m",
        "colab": {
          "base_uri": "https://localhost:8080/",
          "height": 388
        },
        "outputId": "54c1dac9-2b80-4680-ae7c-32188d5b62cf"
      },
      "source": [
        "df.describe(include = 'all')"
      ],
      "execution_count": null,
      "outputs": [
        {
          "output_type": "execute_result",
          "data": {
            "text/html": [
              "<div>\n",
              "<style scoped>\n",
              "    .dataframe tbody tr th:only-of-type {\n",
              "        vertical-align: middle;\n",
              "    }\n",
              "\n",
              "    .dataframe tbody tr th {\n",
              "        vertical-align: top;\n",
              "    }\n",
              "\n",
              "    .dataframe thead th {\n",
              "        text-align: right;\n",
              "    }\n",
              "</style>\n",
              "<table border=\"1\" class=\"dataframe\">\n",
              "  <thead>\n",
              "    <tr style=\"text-align: right;\">\n",
              "      <th></th>\n",
              "      <th>SNo</th>\n",
              "      <th>ObservationDate</th>\n",
              "      <th>Province/State</th>\n",
              "      <th>Country/Region</th>\n",
              "      <th>Last Update</th>\n",
              "      <th>Confirmed</th>\n",
              "      <th>Deaths</th>\n",
              "      <th>Recovered</th>\n",
              "    </tr>\n",
              "  </thead>\n",
              "  <tbody>\n",
              "    <tr>\n",
              "      <th>count</th>\n",
              "      <td>40805.000000</td>\n",
              "      <td>40805</td>\n",
              "      <td>22790</td>\n",
              "      <td>40805</td>\n",
              "      <td>40805</td>\n",
              "      <td>40805.000000</td>\n",
              "      <td>40805.000000</td>\n",
              "      <td>40805.000000</td>\n",
              "    </tr>\n",
              "    <tr>\n",
              "      <th>unique</th>\n",
              "      <td>NaN</td>\n",
              "      <td>143</td>\n",
              "      <td>709</td>\n",
              "      <td>223</td>\n",
              "      <td>1884</td>\n",
              "      <td>NaN</td>\n",
              "      <td>NaN</td>\n",
              "      <td>NaN</td>\n",
              "    </tr>\n",
              "    <tr>\n",
              "      <th>top</th>\n",
              "      <td>NaN</td>\n",
              "      <td>06/12/2020</td>\n",
              "      <td>Diamond Princess cruise ship</td>\n",
              "      <td>US</td>\n",
              "      <td>3/8/20 5:31</td>\n",
              "      <td>NaN</td>\n",
              "      <td>NaN</td>\n",
              "      <td>NaN</td>\n",
              "    </tr>\n",
              "    <tr>\n",
              "      <th>freq</th>\n",
              "      <td>NaN</td>\n",
              "      <td>729</td>\n",
              "      <td>222</td>\n",
              "      <td>6382</td>\n",
              "      <td>1232</td>\n",
              "      <td>NaN</td>\n",
              "      <td>NaN</td>\n",
              "      <td>NaN</td>\n",
              "    </tr>\n",
              "    <tr>\n",
              "      <th>mean</th>\n",
              "      <td>20403.000000</td>\n",
              "      <td>NaN</td>\n",
              "      <td>NaN</td>\n",
              "      <td>NaN</td>\n",
              "      <td>NaN</td>\n",
              "      <td>7403.745448</td>\n",
              "      <td>465.412621</td>\n",
              "      <td>2728.499547</td>\n",
              "    </tr>\n",
              "    <tr>\n",
              "      <th>std</th>\n",
              "      <td>11779.533204</td>\n",
              "      <td>NaN</td>\n",
              "      <td>NaN</td>\n",
              "      <td>NaN</td>\n",
              "      <td>NaN</td>\n",
              "      <td>26483.022808</td>\n",
              "      <td>2392.737598</td>\n",
              "      <td>16413.103519</td>\n",
              "    </tr>\n",
              "    <tr>\n",
              "      <th>min</th>\n",
              "      <td>1.000000</td>\n",
              "      <td>NaN</td>\n",
              "      <td>NaN</td>\n",
              "      <td>NaN</td>\n",
              "      <td>NaN</td>\n",
              "      <td>0.000000</td>\n",
              "      <td>0.000000</td>\n",
              "      <td>0.000000</td>\n",
              "    </tr>\n",
              "    <tr>\n",
              "      <th>25%</th>\n",
              "      <td>10202.000000</td>\n",
              "      <td>NaN</td>\n",
              "      <td>NaN</td>\n",
              "      <td>NaN</td>\n",
              "      <td>NaN</td>\n",
              "      <td>44.000000</td>\n",
              "      <td>0.000000</td>\n",
              "      <td>0.000000</td>\n",
              "    </tr>\n",
              "    <tr>\n",
              "      <th>50%</th>\n",
              "      <td>20403.000000</td>\n",
              "      <td>NaN</td>\n",
              "      <td>NaN</td>\n",
              "      <td>NaN</td>\n",
              "      <td>NaN</td>\n",
              "      <td>458.000000</td>\n",
              "      <td>7.000000</td>\n",
              "      <td>29.000000</td>\n",
              "    </tr>\n",
              "    <tr>\n",
              "      <th>75%</th>\n",
              "      <td>30604.000000</td>\n",
              "      <td>NaN</td>\n",
              "      <td>NaN</td>\n",
              "      <td>NaN</td>\n",
              "      <td>NaN</td>\n",
              "      <td>2836.000000</td>\n",
              "      <td>82.000000</td>\n",
              "      <td>570.000000</td>\n",
              "    </tr>\n",
              "    <tr>\n",
              "      <th>max</th>\n",
              "      <td>40805.000000</td>\n",
              "      <td>NaN</td>\n",
              "      <td>NaN</td>\n",
              "      <td>NaN</td>\n",
              "      <td>NaN</td>\n",
              "      <td>405843.000000</td>\n",
              "      <td>41128.000000</td>\n",
              "      <td>547386.000000</td>\n",
              "    </tr>\n",
              "  </tbody>\n",
              "</table>\n",
              "</div>"
            ],
            "text/plain": [
              "                 SNo ObservationDate  ...        Deaths      Recovered\n",
              "count   40805.000000           40805  ...  40805.000000   40805.000000\n",
              "unique           NaN             143  ...           NaN            NaN\n",
              "top              NaN      06/12/2020  ...           NaN            NaN\n",
              "freq             NaN             729  ...           NaN            NaN\n",
              "mean    20403.000000             NaN  ...    465.412621    2728.499547\n",
              "std     11779.533204             NaN  ...   2392.737598   16413.103519\n",
              "min         1.000000             NaN  ...      0.000000       0.000000\n",
              "25%     10202.000000             NaN  ...      0.000000       0.000000\n",
              "50%     20403.000000             NaN  ...      7.000000      29.000000\n",
              "75%     30604.000000             NaN  ...     82.000000     570.000000\n",
              "max     40805.000000             NaN  ...  41128.000000  547386.000000\n",
              "\n",
              "[11 rows x 8 columns]"
            ]
          },
          "metadata": {},
          "execution_count": 41
        }
      ]
    },
    {
      "cell_type": "code",
      "metadata": {
        "id": "QpaTW8AbiDGk"
      },
      "source": [
        "df.rename(columns={'Last Update':'LU'},inplace = True)"
      ],
      "execution_count": null,
      "outputs": []
    },
    {
      "cell_type": "code",
      "metadata": {
        "id": "cG9WPIofRqUU",
        "colab": {
          "base_uri": "https://localhost:8080/"
        },
        "outputId": "057a0236-41db-41da-add7-17f0b54d0977"
      },
      "source": [
        "df.dtypes"
      ],
      "execution_count": null,
      "outputs": [
        {
          "output_type": "execute_result",
          "data": {
            "text/plain": [
              "SNo                  int64\n",
              "ObservationDate     object\n",
              "Province/State      object\n",
              "Country/Region      object\n",
              "LU                  object\n",
              "Confirmed          float64\n",
              "Deaths             float64\n",
              "Recovered          float64\n",
              "dtype: object"
            ]
          },
          "metadata": {},
          "execution_count": 43
        }
      ]
    },
    {
      "cell_type": "code",
      "metadata": {
        "id": "oEEe_0GKVS2U"
      },
      "source": [
        "df[['ObservationDate','LU']] = df[['ObservationDate','LU']].apply(pd.to_datetime) "
      ],
      "execution_count": null,
      "outputs": []
    },
    {
      "cell_type": "code",
      "metadata": {
        "id": "Ogye2CnfVXIb",
        "colab": {
          "base_uri": "https://localhost:8080/"
        },
        "outputId": "6c13a229-4bfc-45d7-f42b-d46d947a94d3"
      },
      "source": [
        "df[['ObservationDate','LU']].dtypes"
      ],
      "execution_count": null,
      "outputs": [
        {
          "output_type": "execute_result",
          "data": {
            "text/plain": [
              "ObservationDate    datetime64[ns]\n",
              "LU                 datetime64[ns]\n",
              "dtype: object"
            ]
          },
          "metadata": {},
          "execution_count": 45
        }
      ]
    },
    {
      "cell_type": "markdown",
      "metadata": {
        "id": "9JfuOyUAWA6e"
      },
      "source": [
        "### **Task 2**\n",
        "* Create a subset of the data `df`, only taking observations which was **last updated** on **2020-06-13 03:33:14** and name this dataframe as **updated_data**. \n",
        "* Print the total no. of observations and unique country records in **updated_data**\n"
      ]
    },
    {
      "cell_type": "code",
      "metadata": {
        "id": "O72-Q0m8sTME",
        "colab": {
          "base_uri": "https://localhost:8080/"
        },
        "outputId": "877b3837-d288-4c55-81fb-8cb735e68c80"
      },
      "source": [
        "updated_data = df[df.LU == '2020-06-13 03:33:14']\n",
        "updated_data.shape"
      ],
      "execution_count": null,
      "outputs": [
        {
          "output_type": "execute_result",
          "data": {
            "text/plain": [
              "(729, 8)"
            ]
          },
          "metadata": {},
          "execution_count": 46
        }
      ]
    },
    {
      "cell_type": "code",
      "metadata": {
        "id": "G6x9--MusbtR",
        "colab": {
          "base_uri": "https://localhost:8080/",
          "height": 110
        },
        "outputId": "5eec1ebe-6bef-495a-cf06-37a954b4c587"
      },
      "source": [
        "updated_data.head(2)"
      ],
      "execution_count": null,
      "outputs": [
        {
          "output_type": "execute_result",
          "data": {
            "text/html": [
              "<div>\n",
              "<style scoped>\n",
              "    .dataframe tbody tr th:only-of-type {\n",
              "        vertical-align: middle;\n",
              "    }\n",
              "\n",
              "    .dataframe tbody tr th {\n",
              "        vertical-align: top;\n",
              "    }\n",
              "\n",
              "    .dataframe thead th {\n",
              "        text-align: right;\n",
              "    }\n",
              "</style>\n",
              "<table border=\"1\" class=\"dataframe\">\n",
              "  <thead>\n",
              "    <tr style=\"text-align: right;\">\n",
              "      <th></th>\n",
              "      <th>SNo</th>\n",
              "      <th>ObservationDate</th>\n",
              "      <th>Province/State</th>\n",
              "      <th>Country/Region</th>\n",
              "      <th>LU</th>\n",
              "      <th>Confirmed</th>\n",
              "      <th>Deaths</th>\n",
              "      <th>Recovered</th>\n",
              "    </tr>\n",
              "  </thead>\n",
              "  <tbody>\n",
              "    <tr>\n",
              "      <th>40076</th>\n",
              "      <td>40077</td>\n",
              "      <td>2020-06-12</td>\n",
              "      <td>NaN</td>\n",
              "      <td>Afghanistan</td>\n",
              "      <td>2020-06-13 03:33:14</td>\n",
              "      <td>23546.0</td>\n",
              "      <td>446.0</td>\n",
              "      <td>3928.0</td>\n",
              "    </tr>\n",
              "    <tr>\n",
              "      <th>40077</th>\n",
              "      <td>40078</td>\n",
              "      <td>2020-06-12</td>\n",
              "      <td>NaN</td>\n",
              "      <td>Albania</td>\n",
              "      <td>2020-06-13 03:33:14</td>\n",
              "      <td>1416.0</td>\n",
              "      <td>36.0</td>\n",
              "      <td>1034.0</td>\n",
              "    </tr>\n",
              "  </tbody>\n",
              "</table>\n",
              "</div>"
            ],
            "text/plain": [
              "         SNo ObservationDate Province/State  ... Confirmed Deaths  Recovered\n",
              "40076  40077      2020-06-12            NaN  ...   23546.0  446.0     3928.0\n",
              "40077  40078      2020-06-12            NaN  ...    1416.0   36.0     1034.0\n",
              "\n",
              "[2 rows x 8 columns]"
            ]
          },
          "metadata": {},
          "execution_count": 47
        }
      ]
    },
    {
      "cell_type": "code",
      "metadata": {
        "id": "mpmfcU95xwfW",
        "colab": {
          "base_uri": "https://localhost:8080/"
        },
        "outputId": "db5a15b6-ae87-40f2-c702-0573e35c30a6"
      },
      "source": [
        "updated_data.nunique()"
      ],
      "execution_count": null,
      "outputs": [
        {
          "output_type": "execute_result",
          "data": {
            "text/plain": [
              "SNo                729\n",
              "ObservationDate      1\n",
              "Province/State     548\n",
              "Country/Region     190\n",
              "LU                   1\n",
              "Confirmed          669\n",
              "Deaths             316\n",
              "Recovered          502\n",
              "dtype: int64"
            ]
          },
          "metadata": {},
          "execution_count": 48
        }
      ]
    },
    {
      "cell_type": "markdown",
      "metadata": {
        "id": "Sdcu_ll4WRCz"
      },
      "source": [
        "### **Task 3**\n",
        "* Create a subset of data from the dataframe **updated_data**, only taking the top 10 countries which have the maximum number of confirmed cases with features - **'Country/Region', 'Confirmed', 'Deaths' and 'Recovered'**. Name this dataframe as 'top_10'\n",
        "\n",
        "* print the name of the countries in 'top_10' dataset\n",
        "* Which country has the lowest number of confirmed cases among the ten countries in top_10 dataframe?\n",
        "Hint: use groupby() to group all the observations with same country, sum all the observations and then sort the dataframe by confirmed cases."
      ]
    },
    {
      "cell_type": "code",
      "metadata": {
        "colab": {
          "base_uri": "https://localhost:8080/",
          "height": 234
        },
        "id": "KdgpukrmcnA_",
        "outputId": "5f97eec0-5e5e-40e3-d004-ae6f7299fd33"
      },
      "source": [
        "top10 = updated_data.groupby(updated_data['Country/Region']).sum()\n",
        "top10.head()"
      ],
      "execution_count": null,
      "outputs": [
        {
          "output_type": "execute_result",
          "data": {
            "text/html": [
              "<div>\n",
              "<style scoped>\n",
              "    .dataframe tbody tr th:only-of-type {\n",
              "        vertical-align: middle;\n",
              "    }\n",
              "\n",
              "    .dataframe tbody tr th {\n",
              "        vertical-align: top;\n",
              "    }\n",
              "\n",
              "    .dataframe thead th {\n",
              "        text-align: right;\n",
              "    }\n",
              "</style>\n",
              "<table border=\"1\" class=\"dataframe\">\n",
              "  <thead>\n",
              "    <tr style=\"text-align: right;\">\n",
              "      <th></th>\n",
              "      <th>SNo</th>\n",
              "      <th>Confirmed</th>\n",
              "      <th>Deaths</th>\n",
              "      <th>Recovered</th>\n",
              "    </tr>\n",
              "    <tr>\n",
              "      <th>Country/Region</th>\n",
              "      <th></th>\n",
              "      <th></th>\n",
              "      <th></th>\n",
              "      <th></th>\n",
              "    </tr>\n",
              "  </thead>\n",
              "  <tbody>\n",
              "    <tr>\n",
              "      <th>Afghanistan</th>\n",
              "      <td>40077</td>\n",
              "      <td>23546.0</td>\n",
              "      <td>446.0</td>\n",
              "      <td>3928.0</td>\n",
              "    </tr>\n",
              "    <tr>\n",
              "      <th>Albania</th>\n",
              "      <td>40078</td>\n",
              "      <td>1416.0</td>\n",
              "      <td>36.0</td>\n",
              "      <td>1034.0</td>\n",
              "    </tr>\n",
              "    <tr>\n",
              "      <th>Algeria</th>\n",
              "      <td>40079</td>\n",
              "      <td>10698.0</td>\n",
              "      <td>751.0</td>\n",
              "      <td>7322.0</td>\n",
              "    </tr>\n",
              "    <tr>\n",
              "      <th>Andorra</th>\n",
              "      <td>40080</td>\n",
              "      <td>853.0</td>\n",
              "      <td>51.0</td>\n",
              "      <td>781.0</td>\n",
              "    </tr>\n",
              "    <tr>\n",
              "      <th>Angola</th>\n",
              "      <td>40081</td>\n",
              "      <td>130.0</td>\n",
              "      <td>5.0</td>\n",
              "      <td>42.0</td>\n",
              "    </tr>\n",
              "  </tbody>\n",
              "</table>\n",
              "</div>"
            ],
            "text/plain": [
              "                  SNo  Confirmed  Deaths  Recovered\n",
              "Country/Region                                     \n",
              "Afghanistan     40077    23546.0   446.0     3928.0\n",
              "Albania         40078     1416.0    36.0     1034.0\n",
              "Algeria         40079    10698.0   751.0     7322.0\n",
              "Andorra         40080      853.0    51.0      781.0\n",
              "Angola          40081      130.0     5.0       42.0"
            ]
          },
          "metadata": {},
          "execution_count": 49
        }
      ]
    },
    {
      "cell_type": "code",
      "metadata": {
        "colab": {
          "base_uri": "https://localhost:8080/",
          "height": 388
        },
        "id": "L9YTp1Q3qEhd",
        "outputId": "aedc4219-8ed9-45ef-ad14-943ed65efc90"
      },
      "source": [
        "top10 = top10.sort_values(by ='Confirmed',ascending = False).head(10)\n",
        "top10"
      ],
      "execution_count": null,
      "outputs": [
        {
          "output_type": "execute_result",
          "data": {
            "text/html": [
              "<div>\n",
              "<style scoped>\n",
              "    .dataframe tbody tr th:only-of-type {\n",
              "        vertical-align: middle;\n",
              "    }\n",
              "\n",
              "    .dataframe tbody tr th {\n",
              "        vertical-align: top;\n",
              "    }\n",
              "\n",
              "    .dataframe thead th {\n",
              "        text-align: right;\n",
              "    }\n",
              "</style>\n",
              "<table border=\"1\" class=\"dataframe\">\n",
              "  <thead>\n",
              "    <tr style=\"text-align: right;\">\n",
              "      <th></th>\n",
              "      <th>SNo</th>\n",
              "      <th>Confirmed</th>\n",
              "      <th>Deaths</th>\n",
              "      <th>Recovered</th>\n",
              "    </tr>\n",
              "    <tr>\n",
              "      <th>Country/Region</th>\n",
              "      <th></th>\n",
              "      <th></th>\n",
              "      <th></th>\n",
              "      <th></th>\n",
              "    </tr>\n",
              "  </thead>\n",
              "  <tbody>\n",
              "    <tr>\n",
              "      <th>US</th>\n",
              "      <td>2351413</td>\n",
              "      <td>2048986.0</td>\n",
              "      <td>114669.0</td>\n",
              "      <td>547386.0</td>\n",
              "    </tr>\n",
              "    <tr>\n",
              "      <th>Brazil</th>\n",
              "      <td>1094094</td>\n",
              "      <td>828810.0</td>\n",
              "      <td>41828.0</td>\n",
              "      <td>445123.0</td>\n",
              "    </tr>\n",
              "    <tr>\n",
              "      <th>Russia</th>\n",
              "      <td>3365442</td>\n",
              "      <td>510761.0</td>\n",
              "      <td>6705.0</td>\n",
              "      <td>268862.0</td>\n",
              "    </tr>\n",
              "    <tr>\n",
              "      <th>India</th>\n",
              "      <td>1458478</td>\n",
              "      <td>297535.0</td>\n",
              "      <td>8498.0</td>\n",
              "      <td>147195.0</td>\n",
              "    </tr>\n",
              "    <tr>\n",
              "      <th>UK</th>\n",
              "      <td>607266</td>\n",
              "      <td>294402.0</td>\n",
              "      <td>41566.0</td>\n",
              "      <td>1282.0</td>\n",
              "    </tr>\n",
              "    <tr>\n",
              "      <th>Spain</th>\n",
              "      <td>808238</td>\n",
              "      <td>243209.0</td>\n",
              "      <td>27136.0</td>\n",
              "      <td>150376.0</td>\n",
              "    </tr>\n",
              "    <tr>\n",
              "      <th>Italy</th>\n",
              "      <td>851428</td>\n",
              "      <td>236305.0</td>\n",
              "      <td>34223.0</td>\n",
              "      <td>173085.0</td>\n",
              "    </tr>\n",
              "    <tr>\n",
              "      <th>Peru</th>\n",
              "      <td>1052718</td>\n",
              "      <td>214788.0</td>\n",
              "      <td>6088.0</td>\n",
              "      <td>107133.0</td>\n",
              "    </tr>\n",
              "    <tr>\n",
              "      <th>France</th>\n",
              "      <td>445634</td>\n",
              "      <td>193220.0</td>\n",
              "      <td>29377.0</td>\n",
              "      <td>72695.0</td>\n",
              "    </tr>\n",
              "    <tr>\n",
              "      <th>Germany</th>\n",
              "      <td>688860</td>\n",
              "      <td>187226.0</td>\n",
              "      <td>8783.0</td>\n",
              "      <td>171535.0</td>\n",
              "    </tr>\n",
              "  </tbody>\n",
              "</table>\n",
              "</div>"
            ],
            "text/plain": [
              "                    SNo  Confirmed    Deaths  Recovered\n",
              "Country/Region                                         \n",
              "US              2351413  2048986.0  114669.0   547386.0\n",
              "Brazil          1094094   828810.0   41828.0   445123.0\n",
              "Russia          3365442   510761.0    6705.0   268862.0\n",
              "India           1458478   297535.0    8498.0   147195.0\n",
              "UK               607266   294402.0   41566.0     1282.0\n",
              "Spain            808238   243209.0   27136.0   150376.0\n",
              "Italy            851428   236305.0   34223.0   173085.0\n",
              "Peru            1052718   214788.0    6088.0   107133.0\n",
              "France           445634   193220.0   29377.0    72695.0\n",
              "Germany          688860   187226.0    8783.0   171535.0"
            ]
          },
          "metadata": {},
          "execution_count": 50
        }
      ]
    },
    {
      "cell_type": "markdown",
      "metadata": {
        "id": "nhfzHXPFWd-s"
      },
      "source": [
        "### **Task 4**\n",
        "* Add two columns in 'top_10' dataframe - 'Recovered_percentage' and 'Deaths_percentage' \n",
        "\n",
        "where\n",
        "\n",
        "'Recovered_percentage' = (Recovered cases / Confirmed cases) * 100\n",
        "\n",
        "'Death_percentage' = (Deaths cases / Confirmed cases) * 100\n",
        "\n",
        "* Print the top 3 countries with highest recovery precent"
      ]
    },
    {
      "cell_type": "code",
      "metadata": {
        "colab": {
          "base_uri": "https://localhost:8080/",
          "height": 388
        },
        "id": "mrGwauc0rqmG",
        "outputId": "9dbc1c45-d946-48f0-832f-b0923223e500"
      },
      "source": [
        "top10['Recovered_Percentage'] = top10['Recovered']/top10['Confirmed']*100\n",
        "top10['Death_Percentage'] = top10['Deaths']/top10['Confirmed']*100\n",
        "top10"
      ],
      "execution_count": null,
      "outputs": [
        {
          "output_type": "execute_result",
          "data": {
            "text/html": [
              "<div>\n",
              "<style scoped>\n",
              "    .dataframe tbody tr th:only-of-type {\n",
              "        vertical-align: middle;\n",
              "    }\n",
              "\n",
              "    .dataframe tbody tr th {\n",
              "        vertical-align: top;\n",
              "    }\n",
              "\n",
              "    .dataframe thead th {\n",
              "        text-align: right;\n",
              "    }\n",
              "</style>\n",
              "<table border=\"1\" class=\"dataframe\">\n",
              "  <thead>\n",
              "    <tr style=\"text-align: right;\">\n",
              "      <th></th>\n",
              "      <th>SNo</th>\n",
              "      <th>Confirmed</th>\n",
              "      <th>Deaths</th>\n",
              "      <th>Recovered</th>\n",
              "      <th>Recovered_Percentage</th>\n",
              "      <th>Death_Percentage</th>\n",
              "    </tr>\n",
              "    <tr>\n",
              "      <th>Country/Region</th>\n",
              "      <th></th>\n",
              "      <th></th>\n",
              "      <th></th>\n",
              "      <th></th>\n",
              "      <th></th>\n",
              "      <th></th>\n",
              "    </tr>\n",
              "  </thead>\n",
              "  <tbody>\n",
              "    <tr>\n",
              "      <th>US</th>\n",
              "      <td>2351413</td>\n",
              "      <td>2048986.0</td>\n",
              "      <td>114669.0</td>\n",
              "      <td>547386.0</td>\n",
              "      <td>26.714970</td>\n",
              "      <td>5.596378</td>\n",
              "    </tr>\n",
              "    <tr>\n",
              "      <th>Brazil</th>\n",
              "      <td>1094094</td>\n",
              "      <td>828810.0</td>\n",
              "      <td>41828.0</td>\n",
              "      <td>445123.0</td>\n",
              "      <td>53.706278</td>\n",
              "      <td>5.046754</td>\n",
              "    </tr>\n",
              "    <tr>\n",
              "      <th>Russia</th>\n",
              "      <td>3365442</td>\n",
              "      <td>510761.0</td>\n",
              "      <td>6705.0</td>\n",
              "      <td>268862.0</td>\n",
              "      <td>52.639493</td>\n",
              "      <td>1.312747</td>\n",
              "    </tr>\n",
              "    <tr>\n",
              "      <th>India</th>\n",
              "      <td>1458478</td>\n",
              "      <td>297535.0</td>\n",
              "      <td>8498.0</td>\n",
              "      <td>147195.0</td>\n",
              "      <td>49.471491</td>\n",
              "      <td>2.856135</td>\n",
              "    </tr>\n",
              "    <tr>\n",
              "      <th>UK</th>\n",
              "      <td>607266</td>\n",
              "      <td>294402.0</td>\n",
              "      <td>41566.0</td>\n",
              "      <td>1282.0</td>\n",
              "      <td>0.435459</td>\n",
              "      <td>14.118790</td>\n",
              "    </tr>\n",
              "    <tr>\n",
              "      <th>Spain</th>\n",
              "      <td>808238</td>\n",
              "      <td>243209.0</td>\n",
              "      <td>27136.0</td>\n",
              "      <td>150376.0</td>\n",
              "      <td>61.829949</td>\n",
              "      <td>11.157482</td>\n",
              "    </tr>\n",
              "    <tr>\n",
              "      <th>Italy</th>\n",
              "      <td>851428</td>\n",
              "      <td>236305.0</td>\n",
              "      <td>34223.0</td>\n",
              "      <td>173085.0</td>\n",
              "      <td>73.246440</td>\n",
              "      <td>14.482554</td>\n",
              "    </tr>\n",
              "    <tr>\n",
              "      <th>Peru</th>\n",
              "      <td>1052718</td>\n",
              "      <td>214788.0</td>\n",
              "      <td>6088.0</td>\n",
              "      <td>107133.0</td>\n",
              "      <td>49.878485</td>\n",
              "      <td>2.834423</td>\n",
              "    </tr>\n",
              "    <tr>\n",
              "      <th>France</th>\n",
              "      <td>445634</td>\n",
              "      <td>193220.0</td>\n",
              "      <td>29377.0</td>\n",
              "      <td>72695.0</td>\n",
              "      <td>37.622917</td>\n",
              "      <td>15.203913</td>\n",
              "    </tr>\n",
              "    <tr>\n",
              "      <th>Germany</th>\n",
              "      <td>688860</td>\n",
              "      <td>187226.0</td>\n",
              "      <td>8783.0</td>\n",
              "      <td>171535.0</td>\n",
              "      <td>91.619220</td>\n",
              "      <td>4.691122</td>\n",
              "    </tr>\n",
              "  </tbody>\n",
              "</table>\n",
              "</div>"
            ],
            "text/plain": [
              "                    SNo  Confirmed  ...  Recovered_Percentage  Death_Percentage\n",
              "Country/Region                      ...                                        \n",
              "US              2351413  2048986.0  ...             26.714970          5.596378\n",
              "Brazil          1094094   828810.0  ...             53.706278          5.046754\n",
              "Russia          3365442   510761.0  ...             52.639493          1.312747\n",
              "India           1458478   297535.0  ...             49.471491          2.856135\n",
              "UK               607266   294402.0  ...              0.435459         14.118790\n",
              "Spain            808238   243209.0  ...             61.829949         11.157482\n",
              "Italy            851428   236305.0  ...             73.246440         14.482554\n",
              "Peru            1052718   214788.0  ...             49.878485          2.834423\n",
              "France           445634   193220.0  ...             37.622917         15.203913\n",
              "Germany          688860   187226.0  ...             91.619220          4.691122\n",
              "\n",
              "[10 rows x 6 columns]"
            ]
          },
          "metadata": {},
          "execution_count": 51
        }
      ]
    },
    {
      "cell_type": "code",
      "metadata": {
        "colab": {
          "base_uri": "https://localhost:8080/",
          "height": 172
        },
        "id": "H8onxTzytyGT",
        "outputId": "7f5834b5-3578-4c56-82fd-918f518428b1"
      },
      "source": [
        "top3 = top10.sort_values(by = 'Recovered_Percentage',ascending = False).head(3)\n",
        "top3"
      ],
      "execution_count": null,
      "outputs": [
        {
          "output_type": "execute_result",
          "data": {
            "text/html": [
              "<div>\n",
              "<style scoped>\n",
              "    .dataframe tbody tr th:only-of-type {\n",
              "        vertical-align: middle;\n",
              "    }\n",
              "\n",
              "    .dataframe tbody tr th {\n",
              "        vertical-align: top;\n",
              "    }\n",
              "\n",
              "    .dataframe thead th {\n",
              "        text-align: right;\n",
              "    }\n",
              "</style>\n",
              "<table border=\"1\" class=\"dataframe\">\n",
              "  <thead>\n",
              "    <tr style=\"text-align: right;\">\n",
              "      <th></th>\n",
              "      <th>SNo</th>\n",
              "      <th>Confirmed</th>\n",
              "      <th>Deaths</th>\n",
              "      <th>Recovered</th>\n",
              "      <th>Recovered_Percentage</th>\n",
              "      <th>Death_Percentage</th>\n",
              "    </tr>\n",
              "    <tr>\n",
              "      <th>Country/Region</th>\n",
              "      <th></th>\n",
              "      <th></th>\n",
              "      <th></th>\n",
              "      <th></th>\n",
              "      <th></th>\n",
              "      <th></th>\n",
              "    </tr>\n",
              "  </thead>\n",
              "  <tbody>\n",
              "    <tr>\n",
              "      <th>Germany</th>\n",
              "      <td>688860</td>\n",
              "      <td>187226.0</td>\n",
              "      <td>8783.0</td>\n",
              "      <td>171535.0</td>\n",
              "      <td>91.619220</td>\n",
              "      <td>4.691122</td>\n",
              "    </tr>\n",
              "    <tr>\n",
              "      <th>Italy</th>\n",
              "      <td>851428</td>\n",
              "      <td>236305.0</td>\n",
              "      <td>34223.0</td>\n",
              "      <td>173085.0</td>\n",
              "      <td>73.246440</td>\n",
              "      <td>14.482554</td>\n",
              "    </tr>\n",
              "    <tr>\n",
              "      <th>Spain</th>\n",
              "      <td>808238</td>\n",
              "      <td>243209.0</td>\n",
              "      <td>27136.0</td>\n",
              "      <td>150376.0</td>\n",
              "      <td>61.829949</td>\n",
              "      <td>11.157482</td>\n",
              "    </tr>\n",
              "  </tbody>\n",
              "</table>\n",
              "</div>"
            ],
            "text/plain": [
              "                   SNo  Confirmed  ...  Recovered_Percentage  Death_Percentage\n",
              "Country/Region                     ...                                        \n",
              "Germany         688860   187226.0  ...             91.619220          4.691122\n",
              "Italy           851428   236305.0  ...             73.246440         14.482554\n",
              "Spain           808238   243209.0  ...             61.829949         11.157482\n",
              "\n",
              "[3 rows x 6 columns]"
            ]
          },
          "metadata": {},
          "execution_count": 52
        }
      ]
    }
  ]
}